{
 "cells": [
  {
   "cell_type": "code",
   "execution_count": null,
   "id": "008acdaf-730e-4da6-9d1d-454879f58dde",
   "metadata": {},
   "outputs": [],
   "source": [
    "1: Who developed python programing language?\n",
    "Ans: Guido van Rossum\n",
    "2: Which Type of Programing Does Python Support ?\n",
    "Ans: Object-oriented programming and structured programming\n",
    "3: Is python case sensitive while dealing with identifiers?\n",
    "Ans: yes\n",
    "4: What is the correct extension of python file ?\n",
    "Ans: .py\n",
    "5: is python code compiled or interpreted?\n",
    "Ans: interpreted \n",
    "6: Name a few blocks of code used to define in python language.\n",
    "Ans: A block is a piece of Python program text that is executed as a unit. \n",
    "The following are blocks.  module,  function body, and class definition.\n",
    "7: State a character used to give single line comments in python.\n",
    "Ans: #\n",
    "8: Mention function which helps us to find the correct verion opf python which is being used?\n",
    "Ans: python_version() function\n",
    "9: python supports creation of a annonymus function at the run time using a constructer called ___ ?\n",
    "Ans: lambda\n",
    "10: What does pip stands for python ?\n",
    "Ans: preferred installer program\n",
    "11: mention afew built in functions in python.\n",
    "Ans: print( ),type( ),input( ),dir( ),sorted( ),max( )\n",
    "12: What is the maxium possible length of an identifer in python ?\n",
    "Ans: 79 characters\n",
    "13: What are the benefits of using python ?\n",
    "Ans: Python is commonly used for developing websites and software, task automation, data analysis,\n",
    "and data visualization.\n",
    "14: How is memory managed in python ?\n",
    "Ans: Python uses a portion of the memory for internal use and non-object memory. Another part of the memory is\n",
    "used for Python object such as int, dict, list, etc. CPython contains the object allocator that allocates memory\n",
    "within the object area. The object allocator gets a call every time the new object needs space.\n",
    "15: How to install python on windows and set path variables ?\n",
    "Ans: In the section entitled User Variables, double-click on the entry that says Path. Another window will pop up \n",
    "showing a list of paths. Click the New button and paste the path to your Python executable there. Once that's inserted,\n",
    "select your newly added path and click the Move Up button until it's at the top.\n",
    "16: Is indentation required in python?\n",
    "Ans : Yes"
   ]
  }
 ],
 "metadata": {
  "kernelspec": {
   "display_name": "Python 3 (ipykernel)",
   "language": "python",
   "name": "python3"
  },
  "language_info": {
   "codemirror_mode": {
    "name": "ipython",
    "version": 3
   },
   "file_extension": ".py",
   "mimetype": "text/x-python",
   "name": "python",
   "nbconvert_exporter": "python",
   "pygments_lexer": "ipython3",
   "version": "3.10.8"
  }
 },
 "nbformat": 4,
 "nbformat_minor": 5
}
