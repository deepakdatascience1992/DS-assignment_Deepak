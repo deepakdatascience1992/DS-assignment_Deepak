{
 "cells": [
  {
   "cell_type": "code",
   "execution_count": 1,
   "id": "bf6a2aaa-7d90-4fd5-bfa0-554bcec4eb2c",
   "metadata": {},
   "outputs": [
    {
     "data": {
      "text/plain": [
       "'WAP to accept percentage from user and display the grade according to the following ctriteria\\nMarks\\tGrades\\n>90\\tA\\n>80 and <=90\\tB\\n>=60 and <=80\\tC\\n<60\\tD'"
      ]
     },
     "execution_count": 1,
     "metadata": {},
     "output_type": "execute_result"
    }
   ],
   "source": [
    "\"\"\"WAP to accept percentage from user and display the grade according to the following ctriteria\n",
    "Marks\tGrades\n",
    ">90\tA\n",
    ">80 and <=90\tB\n",
    ">=60 and <=80\tC\n",
    "<60\tD\"\"\""
   ]
  },
  {
   "cell_type": "code",
   "execution_count": 2,
   "id": "cd0028fb-594b-4da8-8633-db54b39507e7",
   "metadata": {},
   "outputs": [
    {
     "name": "stdin",
     "output_type": "stream",
     "text": [
      "Enter your marks 59\n"
     ]
    },
    {
     "name": "stdout",
     "output_type": "stream",
     "text": [
      "D\n"
     ]
    }
   ],
   "source": [
    "Marks=float(input(\"Enter your marks\"))\n",
    "Grade=''\n",
    "if Marks >90 :\n",
    "    Grade='A'\n",
    "    print(Grade)\n",
    "elif Marks >80 and Marks<=90:\n",
    "    Grade='B'\n",
    "    print(Grade)\n",
    "elif Marks >=60 and Marks<=80:\n",
    "    Grade='C'\n",
    "    print(Grade)\n",
    "else:\n",
    "    Marks<60\n",
    "    Grade='D'\n",
    "    print(Grade)"
   ]
  },
  {
   "cell_type": "code",
   "execution_count": 3,
   "id": "aac94e0d-e277-4a09-8c2e-4e19b5f7c5ba",
   "metadata": {},
   "outputs": [
    {
     "data": {
      "text/plain": [
       "' Write a program to accept the cost price of a bike and display the road tax to be paid\\naccording to the following criteria\\nTax\\tCost Price(In Rs)\\n15%\\t>100000\\n10%\\t>50000 and <=100000\\n5%\\t<=50000 '"
      ]
     },
     "execution_count": 3,
     "metadata": {},
     "output_type": "execute_result"
    }
   ],
   "source": [
    "\"\"\" Write a program to accept the cost price of a bike and display the road tax to be paid\n",
    "according to the following criteria\n",
    "Tax\tCost Price(In Rs)\n",
    "15%\t>100000\n",
    "10%\t>50000 and <=100000\n",
    "5%\t<=50000 \"\"\""
   ]
  },
  {
   "cell_type": "code",
   "execution_count": 4,
   "id": "2f05d67e-8a40-47b9-80d8-14f028eec5a4",
   "metadata": {},
   "outputs": [
    {
     "name": "stdin",
     "output_type": "stream",
     "text": [
      "Enter Cost price 50000\n"
     ]
    },
    {
     "name": "stdout",
     "output_type": "stream",
     "text": [
      "5%\n"
     ]
    }
   ],
   "source": [
    "cost_Price=int(input(\"Enter Cost price\"))\n",
    "Tax=\"\"\n",
    "if cost_Price > 100000:\n",
    "    Tax=\"15%\"\n",
    "    print(Tax)\n",
    "elif cost_Price >50000 and cost_Price<=100000:\n",
    "    Tax=\"10%\"\n",
    "    print(Tax)\n",
    "else:\n",
    "    cost_Price <=50000\n",
    "    Tax=\"5%\"\n",
    "    print(Tax)\n"
   ]
  },
  {
   "cell_type": "code",
   "execution_count": 5,
   "id": "cd59fe7e-5342-4903-8698-71cc79e986e1",
   "metadata": {},
   "outputs": [
    {
     "data": {
      "text/plain": [
       "' Accept Any City from the user and display monuments of that city \\nCity\\tMonument\\nDelhi\\tRed Fort\\nAgra\\tTaj Mahal\\nJaipur\\tJal Mahal\\n'"
      ]
     },
     "execution_count": 5,
     "metadata": {},
     "output_type": "execute_result"
    }
   ],
   "source": [
    "\"\"\" Accept Any City from the user and display monuments of that city \n",
    "City\tMonument\n",
    "Delhi\tRed Fort\n",
    "Agra\tTaj Mahal\n",
    "Jaipur\tJal Mahal\n",
    "\"\"\""
   ]
  },
  {
   "cell_type": "code",
   "execution_count": 6,
   "id": "ce8c67a6-f1e1-476b-a78d-88ab4f639903",
   "metadata": {},
   "outputs": [
    {
     "name": "stdin",
     "output_type": "stream",
     "text": [
      "Enter City  Thehis\n"
     ]
    }
   ],
   "source": [
    "City=input(\"Enter City \")\n",
    "Monument=\"\"\n",
    "if (City)==\"Delhi\":\n",
    "    Monument=\"Red Fort\"\n",
    "    print(Monument)\n",
    "elif (City)==\"Agra\":\n",
    "    Monument=\"Taj Mahal\"\n",
    "    print(Monument)\n",
    "elif (City==\"Jaipur\"):\n",
    "    Monument=\"Jal Mahal\"\n",
    "    print(Monument)\n"
   ]
  },
  {
   "cell_type": "code",
   "execution_count": 7,
   "id": "c2d938af-4348-4b7e-98cd-1073e2440f3a",
   "metadata": {},
   "outputs": [
    {
     "data": {
      "text/plain": [
       "' Check how many times a given number can be devied by 3 before is it less than or equal to 10'"
      ]
     },
     "execution_count": 7,
     "metadata": {},
     "output_type": "execute_result"
    }
   ],
   "source": [
    "\"\"\" Check how many times a given number can be devied by 3 before is it less than or equal to 10\"\"\""
   ]
  },
  {
   "cell_type": "code",
   "execution_count": 8,
   "id": "7b2ce777-548d-43bd-9106-a9ee81029228",
   "metadata": {},
   "outputs": [
    {
     "name": "stdin",
     "output_type": "stream",
     "text": [
      "Enter Number 6\n"
     ]
    },
    {
     "name": "stdout",
     "output_type": "stream",
     "text": [
      "1 2.0\n"
     ]
    }
   ],
   "source": [
    "number=int(input(\"Enter Number\"))\n",
    "number1=0\n",
    "count=0\n",
    "if (number>0):\n",
    "    if (number/3)>1:\n",
    "        count=count+1\n",
    "        number1=number/3\n",
    "        print(count,number1)\n",
    "    else:\n",
    "        print(\"The number can be divisbile 0 Times \")\n",
    "        "
   ]
  },
  {
   "cell_type": "code",
   "execution_count": 9,
   "id": "da1039fc-6709-476b-ad0c-2a04fb9e7a86",
   "metadata": {},
   "outputs": [
    {
     "data": {
      "text/plain": [
       "' Why and when to use While Loop in python .Give a Detailed Explanation with an example'"
      ]
     },
     "execution_count": 9,
     "metadata": {},
     "output_type": "execute_result"
    }
   ],
   "source": [
    "\"\"\" Why and when to use While Loop in python .Give a Detailed Explanation with an example\"\"\""
   ]
  },
  {
   "cell_type": "code",
   "execution_count": 10,
   "id": "8e97519b-06eb-475a-a6e8-96670c36f8b8",
   "metadata": {},
   "outputs": [],
   "source": [
    "##While loop is used to run a block code untill a certain condition is met"
   ]
  },
  {
   "cell_type": "code",
   "execution_count": 11,
   "id": "64c38905-105e-4eee-b7b8-a8a17580ed86",
   "metadata": {},
   "outputs": [
    {
     "name": "stdin",
     "output_type": "stream",
     "text": [
      "Enter Number 5\n"
     ]
    },
    {
     "name": "stdout",
     "output_type": "stream",
     "text": [
      "5\n"
     ]
    }
   ],
   "source": [
    "number = int(input(\"Enter Number\"))\n",
    "while number<6:\n",
    "    print(number)\n",
    "    if number==3:\n",
    "        break\n",
    "    number+=1"
   ]
  },
  {
   "cell_type": "code",
   "execution_count": 15,
   "id": "a29acda7-1cc4-418e-8903-3fcfb432bc4c",
   "metadata": {},
   "outputs": [
    {
     "data": {
      "text/plain": [
       "'Reverse a while loop  to display numbers from 10 to 1 '"
      ]
     },
     "execution_count": 15,
     "metadata": {},
     "output_type": "execute_result"
    }
   ],
   "source": [
    "\"\"\"Reverse a while loop  to display numbers from 10 to 1 \"\"\""
   ]
  },
  {
   "cell_type": "code",
   "execution_count": 16,
   "id": "e25578d7-afe2-4d33-8ff8-4d18b4ae3b8d",
   "metadata": {},
   "outputs": [
    {
     "name": "stdout",
     "output_type": "stream",
     "text": [
      "10\n",
      "9\n",
      "8\n",
      "7\n",
      "6\n",
      "5\n",
      "4\n",
      "3\n",
      "2\n",
      "1\n"
     ]
    }
   ],
   "source": [
    "i =10\n",
    "while i>0:\n",
    "    print(i)\n",
    "    i=i-1"
   ]
  },
  {
   "cell_type": "code",
   "execution_count": null,
   "id": "a0c69baa-ba45-4ad7-b8c3-9027ee522da9",
   "metadata": {},
   "outputs": [],
   "source": []
  }
 ],
 "metadata": {
  "kernelspec": {
   "display_name": "Python 3 (ipykernel)",
   "language": "python",
   "name": "python3"
  },
  "language_info": {
   "codemirror_mode": {
    "name": "ipython",
    "version": 3
   },
   "file_extension": ".py",
   "mimetype": "text/x-python",
   "name": "python",
   "nbconvert_exporter": "python",
   "pygments_lexer": "ipython3",
   "version": "3.10.8"
  }
 },
 "nbformat": 4,
 "nbformat_minor": 5
}
